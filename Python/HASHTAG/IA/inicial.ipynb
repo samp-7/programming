{
 "cells": [
  {
   "cell_type": "markdown",
   "metadata": {},
   "source": [
    "# Projeto Python IA: Inteligência Artificial e Previsões\n",
    "\n",
    "### Case: Score de Crédito dos Clientes\n",
    "\n",
    "Você foi contratado por um banco para conseguir definir o score de crédito dos clientes. Você precisa analisar todos os clientes do banco e, com base nessa análise, criar um modelo que consiga ler as informações do cliente e dizer automaticamente o score de crédito dele: Ruim, Ok, Bom\n",
    "\n",
    "Arquivos da aula: https://drive.google.com/drive/folders/1FbDqVq4XLvU85VBlVIMJ73p9oOu6u2-J?usp=drive_link"
   ]
  },
  {
   "cell_type": "code",
   "execution_count": null,
   "metadata": {},
   "outputs": [],
   "source": [
    "# Passo a passo \n",
    "\n",
    "# score de crédito = nota de crédito\n",
    "\n",
    "# entender a empresa e a proposta do codigo\n",
    "# importar base de dados\n",
    "# preparar a base de dados - machine learning\n",
    "# codificar - label enconder\n",
    "# treinar a ia, e criar modelos de niveis (boa, ok, ruim)\n",
    "# escolher um modelo para seguir\n",
    "# usar o modelo para fazer a previsao dos clientes\n",
    "\n",
    "\n",
    "\n",
    "\n",
    "\n"
   ]
  },
  {
   "cell_type": "code",
   "execution_count": null,
   "metadata": {},
   "outputs": [],
   "source": [
    "import pandas as pd\n",
    "\n",
    "tabela = pd.read_csv(\"clientes.csv\")\n",
    "# .csv é a extensao do banco de dados\n",
    "\n",
    "display(tabela.info())\n",
    "\n",
    "from sklearn.preprocessing import LabelEncoder\n",
    "# from sklearn esta importando diretamente o labelencoder (diminuindo codigos)\n",
    "\n",
    "codificador_profissao = LabelEncoder()\n",
    "\n",
    "tabela[\"profissao\"] = codificador_profissao.fit_transform(tabela[\"profissao\"])\n",
    "\n",
    "codificador_credito = LabelEncoder()\n",
    "tabela[\"mix_credito\"] = codificador_credito.fit_transform(tabela[\"mix_credito\"])\n",
    "\n",
    "codificador_pagamento = LabelEncoder()\n",
    "tabela[\"comportamento_pagamento\"] = codificador_pagamento.fit_transform(tabela[\"comportamento_pagamento\"])\n",
    "\n",
    "display(tabela.info())\n",
    "\n",
    "# Y --> é a coluna da base de dados que quero prever\n",
    "y = tabela[\"score_credito\"]\n",
    "\n",
    "# W --> é a coluna da base de dados que irei usar para fazer a previsão\n",
    "x = tabela.drop(colums=\"score_credito\")\n",
    "# .drop joga coluna fora\n",
    "\n",
    "from sklearn.model_selection import train_test_split\n",
    "\n",
    "x_train, x_test, y_train, y_test = train_test_split(x, y)\n",
    "\n",
    "from sklearn.ensemble import RandomForestClassifier\n",
    "from sklearn.neighbors import KNeighborsClassifier\n",
    "\n",
    "modelo_arvoredecicao = RandomForestClassifier()\n",
    "modelo_knn = KNeighborsClassifier()\n",
    "\n",
    "modelo_arvoredecicao.fit(x_train, y_train)\n",
    "modelo_knn.fit(x_train, y_train)\n"
   ]
  }
 ],
 "metadata": {
  "kernelspec": {
   "display_name": "Python 3",
   "language": "python",
   "name": "python3"
  },
  "language_info": {
   "codemirror_mode": {
    "name": "ipython",
    "version": 3
   },
   "file_extension": ".py",
   "mimetype": "text/x-python",
   "name": "python",
   "nbconvert_exporter": "python",
   "pygments_lexer": "ipython3",
   "version": "3.12.5"
  },
  "orig_nbformat": 4
 },
 "nbformat": 4,
 "nbformat_minor": 2
}
